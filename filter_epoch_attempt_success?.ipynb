{
 "cells": [
  {
   "cell_type": "code",
   "execution_count": 1,
   "metadata": {},
   "outputs": [],
   "source": [
    "import mne\n",
    "import scipy.io\n",
    "import numpy as np\n",
    "import matplotlib.pyplot as plt\n",
    "from scipy.signal import butter, sosfiltfilt, sosfreqz\n",
    "from sklearn.discriminant_analysis import LinearDiscriminantAnalysis"
   ]
  },
  {
   "cell_type": "code",
   "execution_count": 2,
   "metadata": {},
   "outputs": [
    {
     "name": "stdout",
     "output_type": "stream",
     "text": [
      "Extracting parameters from /Users/manansurana/Desktop/Final/COGS-189-Project/P1_RH_Epochs.set...\n",
      "Not setting metadata\n",
      "Not setting metadata\n",
      "45 matching events found\n",
      "No baseline correction applied\n",
      "0 projection items activated\n",
      "Ready.\n",
      "Extracting parameters from /Users/manansurana/Desktop/Final/COGS-189-Project/P1_LH_Epochs.set...\n",
      "Not setting metadata\n",
      "Not setting metadata\n",
      "45 matching events found\n",
      "No baseline correction applied\n",
      "0 projection items activated\n",
      "Ready.\n"
     ]
    },
    {
     "name": "stderr",
     "output_type": "stream",
     "text": [
      "/var/folders/gl/z6mhnhxx4852x443731lzr5r0000gn/T/ipykernel_59013/967516897.py:1: RuntimeWarning: At least one epoch has multiple events. Only the latency of the first event will be retained.\n",
      "  RH = mne.io.read_epochs_eeglab('P1_RH_Epochs.set')\n",
      "/var/folders/gl/z6mhnhxx4852x443731lzr5r0000gn/T/ipykernel_59013/967516897.py:2: RuntimeWarning: At least one epoch has multiple events. Only the latency of the first event will be retained.\n",
      "  LH = mne.io.read_epochs_eeglab('P1_LH_Epochs.set')\n"
     ]
    },
    {
     "name": "stdout",
     "output_type": "stream",
     "text": [
      "Extracting parameters from /Users/manansurana/Desktop/Final/COGS-189-Project/P1_T_Epochs.set...\n",
      "Not setting metadata\n",
      "Not setting metadata\n",
      "45 matching events found\n",
      "No baseline correction applied\n",
      "0 projection items activated\n",
      "Ready.\n"
     ]
    },
    {
     "name": "stderr",
     "output_type": "stream",
     "text": [
      "/var/folders/gl/z6mhnhxx4852x443731lzr5r0000gn/T/ipykernel_59013/967516897.py:3: RuntimeWarning: At least one epoch has multiple events. Only the latency of the first event will be retained.\n",
      "  T = mne.io.read_epochs_eeglab('P1_T_Epochs.set')\n"
     ]
    },
    {
     "name": "stdout",
     "output_type": "stream",
     "text": [
      "Extracting parameters from /Users/manansurana/Desktop/Final/COGS-189-Project/P1_F_Epochs.set...\n",
      "Not setting metadata\n",
      "Not setting metadata\n",
      "45 matching events found\n",
      "No baseline correction applied\n",
      "0 projection items activated\n",
      "Ready.\n"
     ]
    },
    {
     "name": "stderr",
     "output_type": "stream",
     "text": [
      "/var/folders/gl/z6mhnhxx4852x443731lzr5r0000gn/T/ipykernel_59013/967516897.py:4: RuntimeWarning: At least one epoch has multiple events. Only the latency of the first event will be retained.\n",
      "  F = mne.io.read_epochs_eeglab('P1_F_Epochs.set')\n"
     ]
    }
   ],
   "source": [
    "RH = mne.io.read_epochs_eeglab('P1_RH_Epochs.set')\n",
    "LH = mne.io.read_epochs_eeglab('P1_LH_Epochs.set')\n",
    "T = mne.io.read_epochs_eeglab('P1_T_Epochs.set')\n",
    "F = mne.io.read_epochs_eeglab('P1_F_Epochs.set')"
   ]
  },
  {
   "cell_type": "code",
   "execution_count": 3,
   "metadata": {},
   "outputs": [],
   "source": [
    "\n",
    "motor_channels_RH = RH.pick_channels(['# 28', '# 34'])\n",
    "motor_channels_LH = LH.pick_channels(['# 28', '# 34'])\n",
    "motor_channels_T = T.pick_channels(['# 28', '# 34'])\n",
    "motor_channels_F = F.pick_channels(['# 28', '# 34'])"
   ]
  },
  {
   "cell_type": "code",
   "execution_count": 16,
   "metadata": {},
   "outputs": [
    {
     "name": "stdout",
     "output_type": "stream",
     "text": [
      "Effective window size : 1.024 (s)\n",
      "Effective window size : 1.024 (s)\n",
      "Effective window size : 1.024 (s)\n",
      "Effective window size : 1.024 (s)\n"
     ]
    }
   ],
   "source": [
    "RH_array, RH_freqs = mne.time_frequency.psd_welch(motor_channels_RH)\n",
    "LH_array, LH_freqs = mne.time_frequency.psd_welch(motor_channels_LH)\n",
    "T_array, T_freqs = mne.time_frequency.psd_welch(motor_channels_T)\n",
    "F_array, F_freqs = mne.time_frequency.psd_welch(motor_channels_F)\n",
    "\n",
    "# RH_array = np.squeeze(RH_array, axis = 1)\n",
    "# LH_array = np.squeeze(LH_array, axis = 1)\n",
    "# T_array = np.squeeze(T_array, axis = 1)\n",
    "# F_array = np.squeeze(F_array, axis = 1)\n",
    "\n",
    "RH_array = RH_array.reshape(45,2 * 129)\n",
    "LH_array = LH_array.reshape(45,2 * 129)\n",
    "T_array = T_array.reshape(45,2 * 129)\n",
    "F_array = F_array.reshape(45,2 * 129)"
   ]
  },
  {
   "cell_type": "code",
   "execution_count": 17,
   "metadata": {},
   "outputs": [],
   "source": [
    "RH_test = RH_array[:9,:]\n",
    "LH_test = LH_array[:9,:]\n",
    "T_test = T_array[:9,:]\n",
    "F_test = F_array[:9,:]\n",
    "\n",
    "RH_train = RH_array[9:,:]\n",
    "LH_train = LH_array[9:,:]\n",
    "T_train = T_array[9:,:]\n",
    "F_train = F_array[9:,:]\n",
    "\n",
    "np1 = np.concatenate((RH_train, LH_train),axis = 0)\n",
    "np2 = np.concatenate((T_train, F_train),axis = 0)\n",
    "np_final = np.concatenate((np1, np2), axis = 0)\n",
    "\n",
    "\n",
    "classes = np.zeros((144,1))\n",
    "\n",
    "#Make this into a method\n",
    "for i in range(144):\n",
    "    if i in range(0,36):\n",
    "        classes[i,:] = 1\n",
    "    \n",
    "    if i in range(36,72):\n",
    "        classes[i,:] = 2        \n",
    "    \n",
    "    if i in range(72,108):\n",
    "        classes[i,:] = 3        \n",
    "        \n",
    "    if i in range(108,144):\n",
    "        classes[i,:] = 4\n",
    "        \n",
    "#RH = 1\n",
    "#LH = 2\n",
    "#T = 3\n",
    "#F = 4"
   ]
  },
  {
   "cell_type": "code",
   "execution_count": 18,
   "metadata": {},
   "outputs": [
    {
     "name": "stderr",
     "output_type": "stream",
     "text": [
      "/usr/local/lib/python3.9/site-packages/sklearn/utils/validation.py:993: DataConversionWarning: A column-vector y was passed when a 1d array was expected. Please change the shape of y to (n_samples, ), for example using ravel().\n",
      "  y = column_or_1d(y, warn=True)\n"
     ]
    },
    {
     "data": {
      "text/plain": [
       "LinearDiscriminantAnalysis()"
      ]
     },
     "execution_count": 18,
     "metadata": {},
     "output_type": "execute_result"
    }
   ],
   "source": [
    "clf = LinearDiscriminantAnalysis()\n",
    "clf.fit(np_final, classes)\n"
   ]
  },
  {
   "cell_type": "code",
   "execution_count": 27,
   "metadata": {},
   "outputs": [],
   "source": [
    "RH = clf.predict(RH_test)"
   ]
  },
  {
   "cell_type": "code",
   "execution_count": 28,
   "metadata": {},
   "outputs": [],
   "source": [
    "LH = clf.predict(LH_test)"
   ]
  },
  {
   "cell_type": "code",
   "execution_count": 29,
   "metadata": {},
   "outputs": [],
   "source": [
    "T = clf.predict(T_test)"
   ]
  },
  {
   "cell_type": "code",
   "execution_count": 30,
   "metadata": {},
   "outputs": [],
   "source": [
    "F = clf.predict(F_test)"
   ]
  },
  {
   "cell_type": "code",
   "execution_count": 45,
   "metadata": {},
   "outputs": [],
   "source": [
    "def accuracy(array, target):\n",
    "    total = 0\n",
    "    count = 0\n",
    "    for i in array:\n",
    "        total += 1\n",
    "        if i == target:\n",
    "            count += 1\n",
    "            \n",
    "    return print('Total accuracy:', round(count/total * 100), '%')"
   ]
  },
  {
   "cell_type": "code",
   "execution_count": 50,
   "metadata": {},
   "outputs": [
    {
     "name": "stdout",
     "output_type": "stream",
     "text": [
      "Total accuracy: 56 %\n"
     ]
    }
   ],
   "source": [
    "accuracy(RH, 1)"
   ]
  },
  {
   "cell_type": "code",
   "execution_count": null,
   "metadata": {},
   "outputs": [],
   "source": []
  }
 ],
 "metadata": {
  "interpreter": {
   "hash": "e348f125b6f91a14eca7d5249f64a17f3ef476ef6da90e21206c2cb49670b48b"
  },
  "kernelspec": {
   "display_name": "Python 3 (ipykernel)",
   "language": "python",
   "name": "python3"
  },
  "language_info": {
   "codemirror_mode": {
    "name": "ipython",
    "version": 3
   },
   "file_extension": ".py",
   "mimetype": "text/x-python",
   "name": "python",
   "nbconvert_exporter": "python",
   "pygments_lexer": "ipython3",
   "version": "3.9.10"
  }
 },
 "nbformat": 4,
 "nbformat_minor": 2
}
